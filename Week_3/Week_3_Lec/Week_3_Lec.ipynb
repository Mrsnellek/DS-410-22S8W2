{
 "cells": [
  {
   "cell_type": "markdown",
   "id": "3ccd35ff",
   "metadata": {},
   "source": [
    "The contents of this course including lectures, labs, homework assignments, and exams have all been adapted from the [Data 8 course at University California Berkley](https://data.berkeley.edu/education/courses/data-8). Through their generosity and passion for undergraduate education, the Data 8 community at Berkley has opened their content and expertise for other universities to adapt in the name of undergraduate education."
   ]
  },
  {
   "cell_type": "code",
   "execution_count": 1,
   "id": "cb1c4110",
   "metadata": {},
   "outputs": [],
   "source": [
    "#!pip install datascience\n",
    "from datascience import *\n",
    "import numpy as np\n",
    "\n",
    "%matplotlib inline\n",
    "import matplotlib.pyplot as plots\n",
    "plots.style.use('fivethirtyeight')"
   ]
  },
  {
   "cell_type": "markdown",
   "id": "f7c7ea4d",
   "metadata": {},
   "source": [
    "# Chapter 13: Estimation\n",
    "\n",
    "In this chapter, we will develop a way to estimate an unknown parameter. \n",
    "\n",
    "A statistic based on a random sample can be a reasonable estimate of an unknown parameter in the population. For example, you might want to use the median annual income of sampled households as an estimate of the median annual income of all households in the U.S.\n",
    "\n",
    "But the value of any statistic depends on the sample, and the sample is based on random draws. So every time data scientists come up with an estimate based on a random sample, they are faced with a question:\n",
    "\n",
    "**“How different could this estimate have been, if the sample had come out differently?”**\n",
    "\n",
    "* Numerical data can be ranked.  Sorted in increasing or decreasing order\n",
    "* Precentiles are used to rank how many numbers are above or below a given value\n",
    "* If you score in 95th percentile on a test, you can conclude that 5% of the scores were higher than yours.\n",
    "* What if everyone scored 75% on a test, how would you rank the precentiles?  Who scored in the 50% or 95% precentiles?\n",
    "* We need a definition of precentiles that works consistently for all ranks and all lists.\n",
    "\n",
    "\n",
    "* We will define the 80th percentile of a collection of values to be the smallest value in the collection that is at least as large as 80% of all of the values.\n",
    "\n",
    "For example, let’s consider the sizes of the five largest continents – Africa, Antarctica, Asia, North America, and South America – rounded to the nearest million square miles."
   ]
  },
  {
   "cell_type": "code",
   "execution_count": 2,
   "id": "6fe2d90b",
   "metadata": {},
   "outputs": [],
   "source": [
    "sizes = make_array(12, 17, 6, 9, 7)"
   ]
  },
  {
   "cell_type": "markdown",
   "id": "28c66dbc",
   "metadata": {},
   "source": [
    "The 80th percentile is the smallest value that is at least as large as 80% of the elements of sizes, that is, four-fifths of the five elements. That’s 12:"
   ]
  },
  {
   "cell_type": "code",
   "execution_count": 3,
   "id": "68ee3d1f",
   "metadata": {},
   "outputs": [
    {
     "data": {
      "text/plain": [
       "array([ 6,  7,  9, 12, 17], dtype=int64)"
      ]
     },
     "execution_count": 3,
     "metadata": {},
     "output_type": "execute_result"
    }
   ],
   "source": [
    "np.sort(sizes)"
   ]
  },
  {
   "cell_type": "markdown",
   "id": "56cdd26d",
   "metadata": {},
   "source": [
    "The 80th percentile is a value on the list, namely 12. You can see that 80% of the values are less than or equal to it, and that it is the smallest value on the list for which this is true."
   ]
  },
  {
   "cell_type": "markdown",
   "id": "b62eaaed",
   "metadata": {},
   "source": [
    "The percentile function takes two arguments: a rank between 0 and 100, and a array. It returns the corresponding percentile of the array."
   ]
  },
  {
   "cell_type": "code",
   "execution_count": 4,
   "id": "f054b9e5",
   "metadata": {},
   "outputs": [
    {
     "data": {
      "text/plain": [
       "12"
      ]
     },
     "execution_count": 4,
     "metadata": {},
     "output_type": "execute_result"
    }
   ],
   "source": [
    "percentile(70, sizes)"
   ]
  },
  {
   "cell_type": "markdown",
   "id": "75997a64",
   "metadata": {},
   "source": [
    "#### A General Definition of Precentiles\n",
    "\n",
    "Let be a number between 0 and 100. The ***pth** percentile of a collection is the smallest value in the collection that is at least as large as p% of all the values.\n",
    "\n",
    "By this definition, any percentile between 0 and 100 can be computed for any collection of values, and it is always an element of the collection.\n",
    "\n",
    "In practical terms, suppose there are ***n*** elements in the collection. To find the ***pth*** percentile:\n",
    "\n",
    "* Sort the collection in increasing order.\n",
    "* Find p% of n: (p/100) X n.  Call that ***k***\n",
    "* If ***k*** is an integer, take the ***kth*** element of the sorted collection.\n",
    "* If ***k*** is not an integer, round it up to the next integer, and take that element of the sorted collection.\n",
    "\n",
    "\n",
    "The table scores_and_sections contains one row for each student in a class of 359 students. The columns are the student’s discussion section and midterm score."
   ]
  },
  {
   "cell_type": "code",
   "execution_count": 5,
   "id": "9c382b74",
   "metadata": {},
   "outputs": [
    {
     "data": {
      "text/html": [
       "<table border=\"1\" class=\"dataframe\">\n",
       "    <thead>\n",
       "        <tr>\n",
       "            <th>Section</th> <th>Midterm</th>\n",
       "        </tr>\n",
       "    </thead>\n",
       "    <tbody>\n",
       "        <tr>\n",
       "            <td>1      </td> <td>22     </td>\n",
       "        </tr>\n",
       "        <tr>\n",
       "            <td>2      </td> <td>12     </td>\n",
       "        </tr>\n",
       "        <tr>\n",
       "            <td>2      </td> <td>23     </td>\n",
       "        </tr>\n",
       "        <tr>\n",
       "            <td>2      </td> <td>14     </td>\n",
       "        </tr>\n",
       "        <tr>\n",
       "            <td>1      </td> <td>20     </td>\n",
       "        </tr>\n",
       "        <tr>\n",
       "            <td>3      </td> <td>25     </td>\n",
       "        </tr>\n",
       "        <tr>\n",
       "            <td>4      </td> <td>19     </td>\n",
       "        </tr>\n",
       "        <tr>\n",
       "            <td>1      </td> <td>24     </td>\n",
       "        </tr>\n",
       "        <tr>\n",
       "            <td>5      </td> <td>8      </td>\n",
       "        </tr>\n",
       "        <tr>\n",
       "            <td>6      </td> <td>14     </td>\n",
       "        </tr>\n",
       "    </tbody>\n",
       "</table>\n",
       "<p>... (349 rows omitted)</p>"
      ],
      "text/plain": [
       "Section | Midterm\n",
       "1       | 22\n",
       "2       | 12\n",
       "2       | 23\n",
       "2       | 14\n",
       "1       | 20\n",
       "3       | 25\n",
       "4       | 19\n",
       "1       | 24\n",
       "5       | 8\n",
       "6       | 14\n",
       "... (349 rows omitted)"
      ]
     },
     "execution_count": 5,
     "metadata": {},
     "output_type": "execute_result"
    }
   ],
   "source": [
    "scores_and_sections = Table.read_table('scores_by_section.csv')\n",
    "scores_and_sections"
   ]
  },
  {
   "cell_type": "code",
   "execution_count": 6,
   "id": "96e53a1b",
   "metadata": {},
   "outputs": [
    {
     "data": {
      "image/png": "[encoded data removed]",
      "text/plain": [
       "<Figure size 432x288 with 1 Axes>"
      ]
     },
     "metadata": {},
     "output_type": "display_data"
    }
   ],
   "source": [
    "scores_and_sections.select('Midterm').hist(bins=np.arange(-0.5, 25.6, 1))"
   ]
  },
  {
   "cell_type": "markdown",
   "id": "73d1ef34",
   "metadata": {},
   "source": [
    "What was the 85th percentile of the scores?"
   ]
  },
  {
   "cell_type": "code",
   "execution_count": 7,
   "id": "49b2c4de",
   "metadata": {},
   "outputs": [
    {
     "data": {
      "text/plain": [
       "22"
      ]
     },
     "execution_count": 7,
     "metadata": {},
     "output_type": "execute_result"
    }
   ],
   "source": [
    "scores = scores_and_sections.column(1)\n",
    "percentile(85, scores)"
   ]
  },
  {
   "cell_type": "markdown",
   "id": "fdb1552d",
   "metadata": {},
   "source": [
    "According to the percentile function, the 85th percentile was 22. To check that this is consistent with our new definition, let’s apply the definition directly.\n",
    "\n",
    "First, put the scores in increasing order:"
   ]
  },
  {
   "cell_type": "code",
   "execution_count": 8,
   "id": "c259e214",
   "metadata": {},
   "outputs": [],
   "source": [
    "sorted_scores = np.sort(scores_and_sections.column(1))"
   ]
  },
  {
   "cell_type": "code",
   "execution_count": 9,
   "id": "56386738",
   "metadata": {},
   "outputs": [
    {
     "data": {
      "text/plain": [
       "305.15"
      ]
     },
     "execution_count": 9,
     "metadata": {},
     "output_type": "execute_result"
    }
   ],
   "source": [
    "0.85 * len(scores)"
   ]
  },
  {
   "cell_type": "markdown",
   "id": "3c15ea0b",
   "metadata": {},
   "source": [
    "That’s not an integer. By our definition, the 85th percentile is the 306th element of sorted_scores, which, by Python’s indexing convention, is item 305 of the array."
   ]
  },
  {
   "cell_type": "code",
   "execution_count": 10,
   "id": "db2bd1bf",
   "metadata": {},
   "outputs": [
    {
     "data": {
      "text/plain": [
       "22"
      ]
     },
     "execution_count": 10,
     "metadata": {},
     "output_type": "execute_result"
    }
   ],
   "source": [
    "sorted_scores.item(305)"
   ]
  },
  {
   "cell_type": "markdown",
   "id": "9357b404",
   "metadata": {},
   "source": [
    "#### Quartiles\n",
    "\n",
    "The first quartile of a numercial collection is the 25th percentile. The terminology arises from the first quarter. The second quartile is the median, and the third quartile is the 75th percentile."
   ]
  },
  {
   "cell_type": "code",
   "execution_count": 11,
   "id": "eef9e789",
   "metadata": {},
   "outputs": [
    {
     "data": {
      "text/plain": [
       "11"
      ]
     },
     "execution_count": 11,
     "metadata": {},
     "output_type": "execute_result"
    }
   ],
   "source": [
    "percentile(25, scores)"
   ]
  },
  {
   "cell_type": "code",
   "execution_count": 12,
   "id": "bdfac765",
   "metadata": {},
   "outputs": [
    {
     "data": {
      "text/plain": [
       "16"
      ]
     },
     "execution_count": 12,
     "metadata": {},
     "output_type": "execute_result"
    }
   ],
   "source": [
    "percentile(50, scores)"
   ]
  },
  {
   "cell_type": "code",
   "execution_count": 13,
   "id": "cd2e5d70",
   "metadata": {},
   "outputs": [
    {
     "data": {
      "text/plain": [
       "20"
      ]
     },
     "execution_count": 13,
     "metadata": {},
     "output_type": "execute_result"
    }
   ],
   "source": [
    "percentile(75, scores)"
   ]
  },
  {
   "cell_type": "markdown",
   "id": "0e9927bf",
   "metadata": {},
   "source": [
    "### The Bootstrap\n",
    "\n",
    "* A data scientist uses data in a random sample to estimate an unknown parameter uses the sample to calculate the value of a statistic. \n",
    "* But a random sample is just one of numerous possible random samples, and thus the estimate is just one of numerous plausible estimates\n",
    "* By how much could those estimates vary? To answer this, we need to draw another sample from the population, and compute a new estimate based on the new sample\n",
    "* But we doen’t always have the resources to go back to the population and draw another sample\n",
    "* Bootstrap method to the rescue!\n",
    "* Bootstrap generates new random samples by a method called resampling: the new samples are drawn at random from the original sample."
   ]
  },
  {
   "cell_type": "markdown",
   "id": "9d50a36c",
   "metadata": {},
   "source": [
    "#### Case Study: Employee Compensation in the Fort Collins\n",
    "\n",
    "[Colorado Information Marketplace](https://data.colorado.gov/) is a website where Colorado makes some of their data publicly available. One of the data sets contains compensation data for employees of the city of Fort Collins. These include medical professionals at City-run hospitals, police officers, fire fighters, transportation workers, elected officials, and all other employees of the Fort Collins.\n",
    "\n",
    "Compensation data for the calendar year 2020 are in the table fc2020."
   ]
  },
  {
   "cell_type": "code",
   "execution_count": 14,
   "id": "95b9a4fe",
   "metadata": {},
   "outputs": [
    {
     "data": {
      "text/html": [
       "<table border=\"1\" class=\"dataframe\">\n",
       "    <thead>\n",
       "        <tr>\n",
       "            <th>Job Title</th> <th>Department</th> <th>Service Area</th> <th>Annual Salary</th>\n",
       "        </tr>\n",
       "    </thead>\n",
       "    <tbody>\n",
       "        <tr>\n",
       "            <td>City Manager                </td> <td>City Manager's Office </td> <td>Executive Services</td> <td>278475       </td>\n",
       "        </tr>\n",
       "        <tr>\n",
       "            <td>Broadband Executive Director</td> <td>Broadband             </td> <td>Utility Services  </td> <td>248000       </td>\n",
       "        </tr>\n",
       "        <tr>\n",
       "            <td>City Attorney               </td> <td>City Attorney's Office</td> <td>Legal Services    </td> <td>206090       </td>\n",
       "        </tr>\n",
       "    </tbody>\n",
       "</table>\n",
       "<p>... (1890 rows omitted)</p>"
      ],
      "text/plain": [
       "<IPython.core.display.HTML object>"
      ]
     },
     "metadata": {},
     "output_type": "display_data"
    }
   ],
   "source": [
    "fc2020 = Table.read_table('2020_Fort_Collins_City_Employee_Base_Pay.csv')\n",
    "fc2020.show(3)"
   ]
  },
  {
   "cell_type": "code",
   "execution_count": 15,
   "id": "075ae1f1",
   "metadata": {},
   "outputs": [
    {
     "data": {
      "text/html": [
       "<table border=\"1\" class=\"dataframe\">\n",
       "    <thead>\n",
       "        <tr>\n",
       "            <th>Job Title</th> <th>Department</th> <th>Service Area</th> <th>Annual Salary</th>\n",
       "        </tr>\n",
       "    </thead>\n",
       "    <tbody>\n",
       "        <tr>\n",
       "            <td>City Manager</td> <td>City Manager's Office</td> <td>Executive Services</td> <td>278475       </td>\n",
       "        </tr>\n",
       "    </tbody>\n",
       "</table>"
      ],
      "text/plain": [
       "Job Title    | Department            | Service Area       | Annual Salary\n",
       "City Manager | City Manager's Office | Executive Services | 278475"
      ]
     },
     "execution_count": 15,
     "metadata": {},
     "output_type": "execute_result"
    }
   ],
   "source": [
    "fc2020.where('Job Title', 'City Manager')"
   ]
  },
  {
   "cell_type": "code",
   "execution_count": 18,
   "id": "0d913b7b",
   "metadata": {},
   "outputs": [
    {
     "data": {
      "text/html": [
       "<table border=\"1\" class=\"dataframe\">\n",
       "    <thead>\n",
       "        <tr>\n",
       "            <th>Job Title</th> <th>Department</th> <th>Service Area</th> <th>Annual Salary</th>\n",
       "        </tr>\n",
       "    </thead>\n",
       "    <tbody>\n",
       "        <tr>\n",
       "            <td>City Manager                 </td> <td>City Manager's Office </td> <td>Executive Services            </td> <td>278475       </td>\n",
       "        </tr>\n",
       "        <tr>\n",
       "            <td>Broadband Executive Director </td> <td>Broadband             </td> <td>Utility Services              </td> <td>248000       </td>\n",
       "        </tr>\n",
       "        <tr>\n",
       "            <td>City Attorney                </td> <td>City Attorney's Office</td> <td>Legal Services                </td> <td>206090       </td>\n",
       "        </tr>\n",
       "        <tr>\n",
       "            <td>Chief Of Police              </td> <td>Police Administration </td> <td>Police Services               </td> <td>203693       </td>\n",
       "        </tr>\n",
       "        <tr>\n",
       "            <td>Deputy City Manager          </td> <td>City Manager's Office </td> <td>Executive Services            </td> <td>201368       </td>\n",
       "        </tr>\n",
       "        <tr>\n",
       "            <td>Administrative Fire Chief    </td> <td>Poudre Fire Authority </td> <td>Poudre Fire Authority         </td> <td>192758       </td>\n",
       "        </tr>\n",
       "        <tr>\n",
       "            <td>Police Deputy Chief          </td> <td>Police Administration </td> <td>Police Services               </td> <td>176178       </td>\n",
       "        </tr>\n",
       "        <tr>\n",
       "            <td>Chief Judge                  </td> <td>Municipal Court       </td> <td>Judicial Services             </td> <td>165000       </td>\n",
       "        </tr>\n",
       "        <tr>\n",
       "            <td>Director Of PDT              </td> <td>PDT Administration    </td> <td>Planning, Dev & Transportation</td> <td>165000       </td>\n",
       "        </tr>\n",
       "        <tr>\n",
       "            <td>Chief Human Resources Officer</td> <td>Human Resources       </td> <td>Information & Employee Svcs   </td> <td>164800       </td>\n",
       "        </tr>\n",
       "    </tbody>\n",
       "</table>\n",
       "<p>... (1883 rows omitted)</p>"
      ],
      "text/plain": [
       "Job Title                     | Department             | Service Area                   | Annual Salary\n",
       "City Manager                  | City Manager's Office  | Executive Services             | 278475\n",
       "Broadband Executive Director  | Broadband              | Utility Services               | 248000\n",
       "City Attorney                 | City Attorney's Office | Legal Services                 | 206090\n",
       "Chief Of Police               | Police Administration  | Police Services                | 203693\n",
       "Deputy City Manager           | City Manager's Office  | Executive Services             | 201368\n",
       "Administrative Fire Chief     | Poudre Fire Authority  | Poudre Fire Authority          | 192758\n",
       "Police Deputy Chief           | Police Administration  | Police Services                | 176178\n",
       "Chief Judge                   | Municipal Court        | Judicial Services              | 165000\n",
       "Director Of PDT               | PDT Administration     | Planning, Dev & Transportation | 165000\n",
       "Chief Human Resources Officer | Human Resources        | Information & Employee Svcs    | 164800\n",
       "... (1883 rows omitted)"
      ]
     },
     "execution_count": 18,
     "metadata": {},
     "output_type": "execute_result"
    }
   ],
   "source": [
    "fc2020.sort('Annual Salary', descending = True)"
   ]
  },
  {
   "cell_type": "code",
   "execution_count": 19,
   "id": "8a24702f",
   "metadata": {},
   "outputs": [
    {
     "data": {
      "text/plain": [
       "1893"
      ]
     },
     "execution_count": 19,
     "metadata": {},
     "output_type": "execute_result"
    }
   ],
   "source": [
    "fc2020.num_rows"
   ]
  },
  {
   "cell_type": "code",
   "execution_count": 20,
   "id": "7c9bb644",
   "metadata": {},
   "outputs": [
    {
     "name": "stderr",
     "output_type": "stream",
     "text": [
      "C:\\Users\\ksorauf\\AppData\\Local\\Continuum\\anaconda3\\lib\\site-packages\\datascience\\tables.py:5206: UserWarning: FixedFormatter should only be used together with FixedLocator\n",
      "  axis.set_xticklabels(ticks, rotation='vertical')\n"
     ]
    },
    {
     "data": {
      "image/png": "[encoded data removed]",
      "text/plain": [
       "<Figure size 432x288 with 1 Axes>"
      ]
     },
     "metadata": {},
     "output_type": "display_data"
    }
   ],
   "source": [
    "fc_bins = np.arange(0, 300000, 10000)\n",
    "fc2020.select('Annual Salary').hist(bins=fc_bins)"
   ]
  },
  {
   "cell_type": "code",
   "execution_count": 21,
   "id": "de8fc904",
   "metadata": {},
   "outputs": [
    {
     "data": {
      "text/html": [
       "<table border=\"1\" class=\"dataframe\">\n",
       "    <thead>\n",
       "        <tr>\n",
       "            <th>Job Title</th> <th>Department</th> <th>Service Area</th> <th>Annual Salary</th>\n",
       "        </tr>\n",
       "    </thead>\n",
       "    <tbody>\n",
       "        <tr>\n",
       "            <td>City Manager                </td> <td>City Manager's Office</td> <td>Executive Services</td> <td>278475       </td>\n",
       "        </tr>\n",
       "        <tr>\n",
       "            <td>Broadband Executive Director</td> <td>Broadband            </td> <td>Utility Services  </td> <td>248000       </td>\n",
       "        </tr>\n",
       "    </tbody>\n",
       "</table>\n",
       "<p>... (1891 rows omitted)</p>"
      ],
      "text/plain": [
       "<IPython.core.display.HTML object>"
      ]
     },
     "metadata": {},
     "output_type": "display_data"
    }
   ],
   "source": [
    "fc2020.sort('Annual Salary', descending=True).show(2)"
   ]
  },
  {
   "cell_type": "markdown",
   "id": "e18768ca",
   "metadata": {},
   "source": [
    "Suppose the parameter in which we are interested is the median of the total compensations.\n",
    "\n",
    "Since we have the luxury of having all of the data from the population, we can simply calculate the parameter:"
   ]
  },
  {
   "cell_type": "code",
   "execution_count": 22,
   "id": "6671d3b1",
   "metadata": {},
   "outputs": [
    {
     "data": {
      "text/plain": [
       "71847.03"
      ]
     },
     "execution_count": 22,
     "metadata": {},
     "output_type": "execute_result"
    }
   ],
   "source": [
    "pop_median = percentile(50, fc2020.column('Annual Salary'))\n",
    "pop_median"
   ]
  },
  {
   "cell_type": "markdown",
   "id": "3963e621",
   "metadata": {},
   "source": [
    "The median total compensation of all the employees was 71847.03 dollars.\n",
    "\n",
    "From a practical perspective, there is no reason for us to draw a sample to estimate this parameter since we simply know its value. But in this section we are going to pretend we don’t know the value, and see how well we can estimate it based on a random sample.\n",
    "\n",
    "In later sections, we will come down to earth and work in situations where the parameter is unknown. For now, we are all-knowing."
   ]
  },
  {
   "cell_type": "markdown",
   "id": "046327d7",
   "metadata": {},
   "source": [
    "Let us draw a sample of 500 employees at random without replacement, and let the median total compensation of the sampled employees serve as our estimate of the parameter."
   ]
  },
  {
   "cell_type": "code",
   "execution_count": 23,
   "id": "f33bd03c",
   "metadata": {},
   "outputs": [
    {
     "data": {
      "image/png": "[encoded data removed]",
      "text/plain": [
       "<Figure size 432x288 with 1 Axes>"
      ]
     },
     "metadata": {},
     "output_type": "display_data"
    }
   ],
   "source": [
    "our_sample = fc2020.sample(500, with_replacement=False)\n",
    "our_sample.select('Annual Salary').hist(bins=fc_bins)"
   ]
  },
  {
   "cell_type": "code",
   "execution_count": 24,
   "id": "97965a09",
   "metadata": {},
   "outputs": [
    {
     "data": {
      "text/plain": [
       "75080.67"
      ]
     },
     "execution_count": 24,
     "metadata": {},
     "output_type": "execute_result"
    }
   ],
   "source": [
    "est_median = percentile(50, our_sample.column('Annual Salary'))\n",
    "est_median"
   ]
  },
  {
   "cell_type": "markdown",
   "id": "8691a2b6",
   "metadata": {},
   "source": [
    "* The above sample size is large. By the law of averages, the distribution of the sample resembles that of the population. \n",
    "* We have one estimate of the parameter \n",
    "* The estimate would have had a different value if we sampled from a different population. \n",
    "* The measure of variability between samples will help us measure how accurately we can estimate the parameter.\n",
    "* We could just draw another sample from the population and see how different the the parameter is. \n",
    "* But we are trying to mimic real life where we won’t have all the population data at hand.\n",
    "* What we do have is a large random sample from the population which is likely to resemble the population from which it is drawn. \n",
    "* This observation allows us to lift ourselves up by our bootstraps: the sampling procedure can be replicated by sampling from the sample.\n",
    "\n",
    "Here are the steps of the bootstrap method for generating another random sample that resembles the population:\n",
    "\n",
    "* Treat the original sample as if it were the population.\n",
    "* Draw from the sample, at random with replacement, the same number of times as the original sample size.\n",
    "\n",
    "\n",
    "* Recall that the sample method draws rows from a table with replacement by default, and when not specifying a sample size, the sample size equals the number of rows of the table. \n"
   ]
  },
  {
   "cell_type": "code",
   "execution_count": 25,
   "id": "221c7ad7",
   "metadata": {},
   "outputs": [],
   "source": [
    "resample_1 = our_sample.sample()"
   ]
  },
  {
   "cell_type": "code",
   "execution_count": 26,
   "id": "ea1c00a0",
   "metadata": {},
   "outputs": [
    {
     "data": {
      "image/png": "[encoded data removed]",
      "text/plain": [
       "<Figure size 432x288 with 1 Axes>"
      ]
     },
     "metadata": {},
     "output_type": "display_data"
    }
   ],
   "source": [
    "resample_1.select('Annual Salary').hist(bins=fc_bins)"
   ]
  },
  {
   "cell_type": "code",
   "execution_count": 27,
   "id": "eae05f8b",
   "metadata": {},
   "outputs": [
    {
     "data": {
      "text/plain": [
       "76635.0"
      ]
     },
     "execution_count": 27,
     "metadata": {},
     "output_type": "execute_result"
    }
   ],
   "source": [
    "resampled_median_1 = percentile(50, resample_1.column('Annual Salary'))\n",
    "resampled_median_1"
   ]
  },
  {
   "cell_type": "markdown",
   "id": "c0701f2f",
   "metadata": {},
   "source": [
    "This value is an estimate of the population median.\n",
    "\n",
    "By resampling again and again, we can get many such estimates, and hence an empirical distribution of the estimates."
   ]
  },
  {
   "cell_type": "code",
   "execution_count": 28,
   "id": "25c9f206",
   "metadata": {},
   "outputs": [
    {
     "data": {
      "text/plain": [
       "78047.38"
      ]
     },
     "execution_count": 28,
     "metadata": {},
     "output_type": "execute_result"
    }
   ],
   "source": [
    "resample_2 = our_sample.sample()\n",
    "resampled_median_2 = percentile(50, resample_2.column('Annual Salary'))\n",
    "resampled_median_2"
   ]
  },
  {
   "cell_type": "markdown",
   "id": "b46d3a4e",
   "metadata": {},
   "source": [
    "Let us collect this code and define a function one_bootstrap_median that returns one bootstrapped median of total compensation, based on bootstrapping the original random sample that we called our_sample."
   ]
  },
  {
   "cell_type": "code",
   "execution_count": 29,
   "id": "be65e528",
   "metadata": {},
   "outputs": [],
   "source": [
    "def one_bootstrap_median():\n",
    "    resampled_table = our_sample.sample()\n",
    "    bootstrapped_median = percentile(50, resampled_table.column('Annual Salary'))\n",
    "    return bootstrapped_median"
   ]
  },
  {
   "cell_type": "code",
   "execution_count": 30,
   "id": "9587b298",
   "metadata": {},
   "outputs": [
    {
     "data": {
      "text/plain": [
       "74880.0"
      ]
     },
     "execution_count": 30,
     "metadata": {},
     "output_type": "execute_result"
    }
   ],
   "source": [
    "one_bootstrap_median()"
   ]
  },
  {
   "cell_type": "markdown",
   "id": "5a7a6b64",
   "metadata": {},
   "source": [
    "We can now repeat the bootstrap process multiple times by running a for loop and appending the data as usual."
   ]
  },
  {
   "cell_type": "code",
   "execution_count": 31,
   "id": "45049503",
   "metadata": {},
   "outputs": [],
   "source": [
    "num_repetitions = 5000\n",
    "bstrap_medians = make_array()\n",
    "for i in np.arange(num_repetitions):\n",
    "    bstrap_medians = np.append(bstrap_medians, one_bootstrap_median())"
   ]
  },
  {
   "cell_type": "code",
   "execution_count": 32,
   "id": "0ebc5990",
   "metadata": {},
   "outputs": [
    {
     "data": {
      "image/png": "[encoded data removed]",
      "text/plain": [
       "<Figure size 432x288 with 1 Axes>"
      ]
     },
     "metadata": {},
     "output_type": "display_data"
    }
   ],
   "source": [
    "resampled_medians = Table().with_column('Bootstrap Sample Median', bstrap_medians)\n",
    "resampled_medians.hist()\n",
    "\n",
    "# Plotting parameters; you can ignore this code\n",
    "parameter_green = '#32CD32'\n",
    "plots.ylim(-0.000005, 0.00014)\n",
    "plots.scatter(pop_median, 0, color=parameter_green, s=40, zorder=2);"
   ]
  },
  {
   "cell_type": "markdown",
   "id": "c1a4248b",
   "metadata": {},
   "source": [
    "Here is an empirical histogram of the 5000 bootstrapped medians. The green dot is the population parameter: it is the median of the entire population, which is what we are trying to estimate. In this example we happen to know its value, but we did not use it in the bootstrap process."
   ]
  },
  {
   "cell_type": "markdown",
   "id": "a0f6c174",
   "metadata": {},
   "source": [
    "* It is important to remember that the green dot is fixed: it is 71847.03 dollars, the population median. \n",
    "* The empirical histogram is the result of random draws, and will be situated randomly relative to the green dot.\n",
    "* Our estimates are all the randomly generated sampled medians whose histogram you see above. We want the set of these estimates to contain the parameter. If it doesn’t, then the estimates are off."
   ]
  },
  {
   "cell_type": "markdown",
   "id": "9671918c",
   "metadata": {},
   "source": [
    "Do the Estimates Capture the Parameter?\n",
    "* How often does the empirical histogram of the resampled medians sit firmly over the green dot?\n",
    "* Lets assume that \"firmly\" means “the middle 95% of the resampled medians contains the green dot”\n",
    "\n",
    "\n",
    "Here are the two ends of the “middle 95%” interval of resampled medians:"
   ]
  },
  {
   "cell_type": "code",
   "execution_count": 33,
   "id": "5ebc56f3",
   "metadata": {},
   "outputs": [
    {
     "data": {
      "text/plain": [
       "69438.37"
      ]
     },
     "execution_count": 33,
     "metadata": {},
     "output_type": "execute_result"
    }
   ],
   "source": [
    "left = percentile(2.5, bstrap_medians)\n",
    "left"
   ]
  },
  {
   "cell_type": "code",
   "execution_count": 34,
   "id": "a1b1d80e",
   "metadata": {},
   "outputs": [
    {
     "data": {
      "text/plain": [
       "77812.35"
      ]
     },
     "execution_count": 34,
     "metadata": {},
     "output_type": "execute_result"
    }
   ],
   "source": [
    "right = percentile(97.5, bstrap_medians)\n",
    "right"
   ]
  },
  {
   "cell_type": "markdown",
   "id": "9d8d6fc1",
   "metadata": {},
   "source": [
    "The population median of 71847.03 dollars is between these two numbers. The interval and the population median are shown on the histogram below."
   ]
  },
  {
   "cell_type": "code",
   "execution_count": 35,
   "id": "60c7743c",
   "metadata": {},
   "outputs": [
    {
     "data": {
      "image/png": "[encoded data removed]",
      "text/plain": [
       "<Figure size 432x288 with 1 Axes>"
      ]
     },
     "metadata": {},
     "output_type": "display_data"
    }
   ],
   "source": [
    "resampled_medians.hist()\n",
    "\n",
    "# Plotting parameters; you can ignore this code\n",
    "plots.ylim(-0.000005, 0.00014)\n",
    "plots.plot([left, right], [0, 0], color='yellow', lw=3, zorder=1)\n",
    "plots.scatter(pop_median, 0, color=parameter_green, s=40, zorder=2);"
   ]
  },
  {
   "cell_type": "markdown",
   "id": "e2dbb039",
   "metadata": {},
   "source": [
    "The “middle 95%” interval of estimates captured the parameter in our example. But was that a fluke?"
   ]
  },
  {
   "cell_type": "markdown",
   "id": "3ecb1056",
   "metadata": {},
   "source": [
    "To see how frequently the interval contains the parameter, we have to run the entire process over and over again. Specifically, we will replicate the following process 100 times:"
   ]
  },
  {
   "cell_type": "code",
   "execution_count": 36,
   "id": "eb29563a",
   "metadata": {},
   "outputs": [],
   "source": [
    "def bootstrap_median(original_sample, num_repetitions):\n",
    "    medians = make_array()\n",
    "    for i in np.arange(num_repetitions):\n",
    "        new_bstrap_sample = original_sample.sample()\n",
    "        new_bstrap_median = percentile(50, new_bstrap_sample.column('Annual Salary'))\n",
    "        medians = np.append(medians, new_bstrap_median)\n",
    "    return medians"
   ]
  },
  {
   "cell_type": "code",
   "execution_count": 37,
   "id": "3d24f04d",
   "metadata": {},
   "outputs": [
    {
     "ename": "KeyboardInterrupt",
     "evalue": "",
     "output_type": "error",
     "traceback": [
      "\u001b[1;31m---------------------------------------------------------------------------\u001b[0m",
      "\u001b[1;31mKeyboardInterrupt\u001b[0m                         Traceback (most recent call last)",
      "\u001b[1;32m~\\AppData\\Local\\Temp/ipykernel_7072/2396799149.py\u001b[0m in \u001b[0;36m<module>\u001b[1;34m\u001b[0m\n\u001b[0;32m      4\u001b[0m \u001b[1;32mfor\u001b[0m \u001b[0mi\u001b[0m \u001b[1;32min\u001b[0m \u001b[0mnp\u001b[0m\u001b[1;33m.\u001b[0m\u001b[0marange\u001b[0m\u001b[1;33m(\u001b[0m\u001b[1;36m100\u001b[0m\u001b[1;33m)\u001b[0m\u001b[1;33m:\u001b[0m\u001b[1;33m\u001b[0m\u001b[1;33m\u001b[0m\u001b[0m\n\u001b[0;32m      5\u001b[0m     \u001b[0moriginal_sample\u001b[0m \u001b[1;33m=\u001b[0m \u001b[0mfc2020\u001b[0m\u001b[1;33m.\u001b[0m\u001b[0msample\u001b[0m\u001b[1;33m(\u001b[0m\u001b[1;36m500\u001b[0m\u001b[1;33m,\u001b[0m \u001b[0mwith_replacement\u001b[0m\u001b[1;33m=\u001b[0m\u001b[1;32mFalse\u001b[0m\u001b[1;33m)\u001b[0m\u001b[1;33m\u001b[0m\u001b[1;33m\u001b[0m\u001b[0m\n\u001b[1;32m----> 6\u001b[1;33m     \u001b[0mmedians\u001b[0m \u001b[1;33m=\u001b[0m \u001b[0mbootstrap_median\u001b[0m\u001b[1;33m(\u001b[0m\u001b[0moriginal_sample\u001b[0m\u001b[1;33m,\u001b[0m \u001b[1;36m5000\u001b[0m\u001b[1;33m)\u001b[0m\u001b[1;33m\u001b[0m\u001b[1;33m\u001b[0m\u001b[0m\n\u001b[0m\u001b[0;32m      7\u001b[0m     \u001b[0mleft_ends\u001b[0m \u001b[1;33m=\u001b[0m \u001b[0mnp\u001b[0m\u001b[1;33m.\u001b[0m\u001b[0mappend\u001b[0m\u001b[1;33m(\u001b[0m\u001b[0mleft_ends\u001b[0m\u001b[1;33m,\u001b[0m \u001b[0mpercentile\u001b[0m\u001b[1;33m(\u001b[0m\u001b[1;36m2.5\u001b[0m\u001b[1;33m,\u001b[0m \u001b[0mmedians\u001b[0m\u001b[1;33m)\u001b[0m\u001b[1;33m)\u001b[0m\u001b[1;33m\u001b[0m\u001b[1;33m\u001b[0m\u001b[0m\n\u001b[0;32m      8\u001b[0m     \u001b[0mright_ends\u001b[0m \u001b[1;33m=\u001b[0m \u001b[0mnp\u001b[0m\u001b[1;33m.\u001b[0m\u001b[0mappend\u001b[0m\u001b[1;33m(\u001b[0m\u001b[0mright_ends\u001b[0m\u001b[1;33m,\u001b[0m \u001b[0mpercentile\u001b[0m\u001b[1;33m(\u001b[0m\u001b[1;36m97.5\u001b[0m\u001b[1;33m,\u001b[0m \u001b[0mmedians\u001b[0m\u001b[1;33m)\u001b[0m\u001b[1;33m)\u001b[0m\u001b[1;33m\u001b[0m\u001b[1;33m\u001b[0m\u001b[0m\n",
      "\u001b[1;32m~\\AppData\\Local\\Temp/ipykernel_7072/1092613859.py\u001b[0m in \u001b[0;36mbootstrap_median\u001b[1;34m(original_sample, num_repetitions)\u001b[0m\n\u001b[0;32m      2\u001b[0m     \u001b[0mmedians\u001b[0m \u001b[1;33m=\u001b[0m \u001b[0mmake_array\u001b[0m\u001b[1;33m(\u001b[0m\u001b[1;33m)\u001b[0m\u001b[1;33m\u001b[0m\u001b[1;33m\u001b[0m\u001b[0m\n\u001b[0;32m      3\u001b[0m     \u001b[1;32mfor\u001b[0m \u001b[0mi\u001b[0m \u001b[1;32min\u001b[0m \u001b[0mnp\u001b[0m\u001b[1;33m.\u001b[0m\u001b[0marange\u001b[0m\u001b[1;33m(\u001b[0m\u001b[0mnum_repetitions\u001b[0m\u001b[1;33m)\u001b[0m\u001b[1;33m:\u001b[0m\u001b[1;33m\u001b[0m\u001b[1;33m\u001b[0m\u001b[0m\n\u001b[1;32m----> 4\u001b[1;33m         \u001b[0mnew_bstrap_sample\u001b[0m \u001b[1;33m=\u001b[0m \u001b[0moriginal_sample\u001b[0m\u001b[1;33m.\u001b[0m\u001b[0msample\u001b[0m\u001b[1;33m(\u001b[0m\u001b[1;33m)\u001b[0m\u001b[1;33m\u001b[0m\u001b[1;33m\u001b[0m\u001b[0m\n\u001b[0m\u001b[0;32m      5\u001b[0m         \u001b[0mnew_bstrap_median\u001b[0m \u001b[1;33m=\u001b[0m \u001b[0mpercentile\u001b[0m\u001b[1;33m(\u001b[0m\u001b[1;36m50\u001b[0m\u001b[1;33m,\u001b[0m \u001b[0mnew_bstrap_sample\u001b[0m\u001b[1;33m.\u001b[0m\u001b[0mcolumn\u001b[0m\u001b[1;33m(\u001b[0m\u001b[1;34m'Annual Salary'\u001b[0m\u001b[1;33m)\u001b[0m\u001b[1;33m)\u001b[0m\u001b[1;33m\u001b[0m\u001b[1;33m\u001b[0m\u001b[0m\n\u001b[0;32m      6\u001b[0m         \u001b[0mmedians\u001b[0m \u001b[1;33m=\u001b[0m \u001b[0mnp\u001b[0m\u001b[1;33m.\u001b[0m\u001b[0mappend\u001b[0m\u001b[1;33m(\u001b[0m\u001b[0mmedians\u001b[0m\u001b[1;33m,\u001b[0m \u001b[0mnew_bstrap_median\u001b[0m\u001b[1;33m)\u001b[0m\u001b[1;33m\u001b[0m\u001b[1;33m\u001b[0m\u001b[0m\n",
      "\u001b[1;32m~\\AppData\\Local\\Continuum\\anaconda3\\lib\\site-packages\\datascience\\tables.py\u001b[0m in \u001b[0;36msample\u001b[1;34m(self, k, with_replacement, weights)\u001b[0m\n\u001b[0;32m   2096\u001b[0m         \u001b[0mindex\u001b[0m \u001b[1;33m=\u001b[0m \u001b[0mnp\u001b[0m\u001b[1;33m.\u001b[0m\u001b[0mrandom\u001b[0m\u001b[1;33m.\u001b[0m\u001b[0mchoice\u001b[0m\u001b[1;33m(\u001b[0m\u001b[0mn\u001b[0m\u001b[1;33m,\u001b[0m \u001b[0mk\u001b[0m\u001b[1;33m,\u001b[0m \u001b[0mreplace\u001b[0m\u001b[1;33m=\u001b[0m\u001b[0mwith_replacement\u001b[0m\u001b[1;33m,\u001b[0m \u001b[0mp\u001b[0m\u001b[1;33m=\u001b[0m\u001b[0mweights\u001b[0m\u001b[1;33m)\u001b[0m\u001b[1;33m\u001b[0m\u001b[1;33m\u001b[0m\u001b[0m\n\u001b[0;32m   2097\u001b[0m         \u001b[0mcolumns\u001b[0m \u001b[1;33m=\u001b[0m \u001b[1;33m[\u001b[0m\u001b[1;33m[\u001b[0m\u001b[0mc\u001b[0m\u001b[1;33m[\u001b[0m\u001b[0mi\u001b[0m\u001b[1;33m]\u001b[0m \u001b[1;32mfor\u001b[0m \u001b[0mi\u001b[0m \u001b[1;32min\u001b[0m \u001b[0mindex\u001b[0m\u001b[1;33m]\u001b[0m \u001b[1;32mfor\u001b[0m \u001b[0mc\u001b[0m \u001b[1;32min\u001b[0m \u001b[0mself\u001b[0m\u001b[1;33m.\u001b[0m\u001b[0mcolumns\u001b[0m\u001b[1;33m]\u001b[0m\u001b[1;33m\u001b[0m\u001b[1;33m\u001b[0m\u001b[0m\n\u001b[1;32m-> 2098\u001b[1;33m         \u001b[0msample\u001b[0m \u001b[1;33m=\u001b[0m \u001b[0mself\u001b[0m\u001b[1;33m.\u001b[0m\u001b[0m_with_columns\u001b[0m\u001b[1;33m(\u001b[0m\u001b[0mcolumns\u001b[0m\u001b[1;33m)\u001b[0m\u001b[1;33m\u001b[0m\u001b[1;33m\u001b[0m\u001b[0m\n\u001b[0m\u001b[0;32m   2099\u001b[0m         \u001b[1;32mreturn\u001b[0m \u001b[0msample\u001b[0m\u001b[1;33m\u001b[0m\u001b[1;33m\u001b[0m\u001b[0m\n\u001b[0;32m   2100\u001b[0m \u001b[1;33m\u001b[0m\u001b[0m\n",
      "\u001b[1;32m~\\AppData\\Local\\Continuum\\anaconda3\\lib\\site-packages\\datascience\\tables.py\u001b[0m in \u001b[0;36m_with_columns\u001b[1;34m(self, columns)\u001b[0m\n\u001b[0;32m    150\u001b[0m         \u001b[0mtable\u001b[0m \u001b[1;33m=\u001b[0m \u001b[0mtype\u001b[0m\u001b[1;33m(\u001b[0m\u001b[0mself\u001b[0m\u001b[1;33m)\u001b[0m\u001b[1;33m(\u001b[0m\u001b[1;33m)\u001b[0m\u001b[1;33m\u001b[0m\u001b[1;33m\u001b[0m\u001b[0m\n\u001b[0;32m    151\u001b[0m         \u001b[1;32mfor\u001b[0m \u001b[0mlabel\u001b[0m\u001b[1;33m,\u001b[0m \u001b[0mcolumn\u001b[0m \u001b[1;32min\u001b[0m \u001b[0mzip\u001b[0m\u001b[1;33m(\u001b[0m\u001b[0mself\u001b[0m\u001b[1;33m.\u001b[0m\u001b[0mlabels\u001b[0m\u001b[1;33m,\u001b[0m \u001b[0mcolumns\u001b[0m\u001b[1;33m)\u001b[0m\u001b[1;33m:\u001b[0m\u001b[1;33m\u001b[0m\u001b[1;33m\u001b[0m\u001b[0m\n\u001b[1;32m--> 152\u001b[1;33m             \u001b[0mself\u001b[0m\u001b[1;33m.\u001b[0m\u001b[0m_add_column_and_format\u001b[0m\u001b[1;33m(\u001b[0m\u001b[0mtable\u001b[0m\u001b[1;33m,\u001b[0m \u001b[0mlabel\u001b[0m\u001b[1;33m,\u001b[0m \u001b[0mcolumn\u001b[0m\u001b[1;33m)\u001b[0m\u001b[1;33m\u001b[0m\u001b[1;33m\u001b[0m\u001b[0m\n\u001b[0m\u001b[0;32m    153\u001b[0m         \u001b[1;32mreturn\u001b[0m \u001b[0mtable\u001b[0m\u001b[1;33m\u001b[0m\u001b[1;33m\u001b[0m\u001b[0m\n\u001b[0;32m    154\u001b[0m \u001b[1;33m\u001b[0m\u001b[0m\n",
      "\u001b[1;32m~\\AppData\\Local\\Continuum\\anaconda3\\lib\\site-packages\\datascience\\tables.py\u001b[0m in \u001b[0;36m_add_column_and_format\u001b[1;34m(self, table, label, column)\u001b[0m\n\u001b[0;32m    156\u001b[0m         \u001b[1;34m\"\"\"Add a column to table, copying the formatter from self.\"\"\"\u001b[0m\u001b[1;33m\u001b[0m\u001b[1;33m\u001b[0m\u001b[0m\n\u001b[0;32m    157\u001b[0m         \u001b[0mlabel\u001b[0m \u001b[1;33m=\u001b[0m \u001b[0mself\u001b[0m\u001b[1;33m.\u001b[0m\u001b[0m_as_label\u001b[0m\u001b[1;33m(\u001b[0m\u001b[0mlabel\u001b[0m\u001b[1;33m)\u001b[0m\u001b[1;33m\u001b[0m\u001b[1;33m\u001b[0m\u001b[0m\n\u001b[1;32m--> 158\u001b[1;33m         \u001b[0mtable\u001b[0m\u001b[1;33m[\u001b[0m\u001b[0mlabel\u001b[0m\u001b[1;33m]\u001b[0m \u001b[1;33m=\u001b[0m \u001b[0mcolumn\u001b[0m\u001b[1;33m\u001b[0m\u001b[1;33m\u001b[0m\u001b[0m\n\u001b[0m\u001b[0;32m    159\u001b[0m         \u001b[1;32mif\u001b[0m \u001b[0mlabel\u001b[0m \u001b[1;32min\u001b[0m \u001b[0mself\u001b[0m\u001b[1;33m.\u001b[0m\u001b[0m_formats\u001b[0m\u001b[1;33m:\u001b[0m\u001b[1;33m\u001b[0m\u001b[1;33m\u001b[0m\u001b[0m\n\u001b[0;32m    160\u001b[0m             \u001b[0mtable\u001b[0m\u001b[1;33m.\u001b[0m\u001b[0m_formats\u001b[0m\u001b[1;33m[\u001b[0m\u001b[0mlabel\u001b[0m\u001b[1;33m]\u001b[0m \u001b[1;33m=\u001b[0m \u001b[0mself\u001b[0m\u001b[1;33m.\u001b[0m\u001b[0m_formats\u001b[0m\u001b[1;33m[\u001b[0m\u001b[0mlabel\u001b[0m\u001b[1;33m]\u001b[0m\u001b[1;33m\u001b[0m\u001b[1;33m\u001b[0m\u001b[0m\n",
      "\u001b[1;32m~\\AppData\\Local\\Continuum\\anaconda3\\lib\\site-packages\\datascience\\tables.py\u001b[0m in \u001b[0;36m__setitem__\u001b[1;34m(self, index_or_label, values)\u001b[0m\n\u001b[0;32m    199\u001b[0m \u001b[1;33m\u001b[0m\u001b[0m\n\u001b[0;32m    200\u001b[0m     \u001b[1;32mdef\u001b[0m \u001b[0m__setitem__\u001b[0m\u001b[1;33m(\u001b[0m\u001b[0mself\u001b[0m\u001b[1;33m,\u001b[0m \u001b[0mindex_or_label\u001b[0m\u001b[1;33m,\u001b[0m \u001b[0mvalues\u001b[0m\u001b[1;33m)\u001b[0m\u001b[1;33m:\u001b[0m\u001b[1;33m\u001b[0m\u001b[1;33m\u001b[0m\u001b[0m\n\u001b[1;32m--> 201\u001b[1;33m         \u001b[0mself\u001b[0m\u001b[1;33m.\u001b[0m\u001b[0mappend_column\u001b[0m\u001b[1;33m(\u001b[0m\u001b[0mindex_or_label\u001b[0m\u001b[1;33m,\u001b[0m \u001b[0mvalues\u001b[0m\u001b[1;33m)\u001b[0m\u001b[1;33m\u001b[0m\u001b[1;33m\u001b[0m\u001b[0m\n\u001b[0m\u001b[0;32m    202\u001b[0m \u001b[1;33m\u001b[0m\u001b[0m\n\u001b[0;32m    203\u001b[0m     \u001b[1;32mdef\u001b[0m \u001b[0m__delitem__\u001b[0m\u001b[1;33m(\u001b[0m\u001b[0mself\u001b[0m\u001b[1;33m,\u001b[0m \u001b[0mindex_or_label\u001b[0m\u001b[1;33m)\u001b[0m\u001b[1;33m:\u001b[0m\u001b[1;33m\u001b[0m\u001b[1;33m\u001b[0m\u001b[0m\n",
      "\u001b[1;32m~\\AppData\\Local\\Continuum\\anaconda3\\lib\\site-packages\\datascience\\tables.py\u001b[0m in \u001b[0;36mappend_column\u001b[1;34m(self, label, values, formatter)\u001b[0m\n\u001b[0;32m    918\u001b[0m             \u001b[1;32mif\u001b[0m \u001b[1;32mnot\u001b[0m \u001b[0m_is_non_string_iterable\u001b[0m\u001b[1;33m(\u001b[0m\u001b[0mvalues\u001b[0m\u001b[1;33m)\u001b[0m\u001b[1;33m:\u001b[0m\u001b[1;33m\u001b[0m\u001b[1;33m\u001b[0m\u001b[0m\n\u001b[0;32m    919\u001b[0m                 \u001b[0mvalues\u001b[0m \u001b[1;33m=\u001b[0m \u001b[1;33m[\u001b[0m\u001b[0mvalues\u001b[0m\u001b[1;33m]\u001b[0m \u001b[1;33m*\u001b[0m \u001b[0mmax\u001b[0m\u001b[1;33m(\u001b[0m\u001b[0mself\u001b[0m\u001b[1;33m.\u001b[0m\u001b[0mnum_rows\u001b[0m\u001b[1;33m,\u001b[0m \u001b[1;36m1\u001b[0m\u001b[1;33m)\u001b[0m\u001b[1;33m\u001b[0m\u001b[1;33m\u001b[0m\u001b[0m\n\u001b[1;32m--> 920\u001b[1;33m             \u001b[0mvalues\u001b[0m \u001b[1;33m=\u001b[0m \u001b[0mnp\u001b[0m\u001b[1;33m.\u001b[0m\u001b[0marray\u001b[0m\u001b[1;33m(\u001b[0m\u001b[0mtuple\u001b[0m\u001b[1;33m(\u001b[0m\u001b[0mvalues\u001b[0m\u001b[1;33m)\u001b[0m\u001b[1;33m)\u001b[0m\u001b[1;33m\u001b[0m\u001b[1;33m\u001b[0m\u001b[0m\n\u001b[0m\u001b[0;32m    921\u001b[0m \u001b[1;33m\u001b[0m\u001b[0m\n\u001b[0;32m    922\u001b[0m         \u001b[1;32mif\u001b[0m \u001b[0mself\u001b[0m\u001b[1;33m.\u001b[0m\u001b[0mnum_rows\u001b[0m \u001b[1;33m!=\u001b[0m \u001b[1;36m0\u001b[0m \u001b[1;32mand\u001b[0m \u001b[0mlen\u001b[0m\u001b[1;33m(\u001b[0m\u001b[0mvalues\u001b[0m\u001b[1;33m)\u001b[0m \u001b[1;33m!=\u001b[0m \u001b[0mself\u001b[0m\u001b[1;33m.\u001b[0m\u001b[0mnum_rows\u001b[0m\u001b[1;33m:\u001b[0m\u001b[1;33m\u001b[0m\u001b[1;33m\u001b[0m\u001b[0m\n",
      "\u001b[1;31mKeyboardInterrupt\u001b[0m: "
     ]
    }
   ],
   "source": [
    "left_ends = make_array()\n",
    "right_ends = make_array()\n",
    "\n",
    "for i in np.arange(100):\n",
    "    original_sample = fc2020.sample(500, with_replacement=False)\n",
    "    medians = bootstrap_median(original_sample, 5000)\n",
    "    left_ends = np.append(left_ends, percentile(2.5, medians))\n",
    "    right_ends = np.append(right_ends, percentile(97.5, medians))\n",
    "\n",
    "intervals = Table().with_columns(\n",
    "    'Left', left_ends,\n",
    "    'Right', right_ends\n",
    ")    "
   ]
  },
  {
   "cell_type": "code",
   "execution_count": null,
   "id": "61f87400",
   "metadata": {},
   "outputs": [],
   "source": [
    "intervals"
   ]
  },
  {
   "cell_type": "code",
   "execution_count": null,
   "id": "8f9475a6",
   "metadata": {},
   "outputs": [],
   "source": [
    "pop_median"
   ]
  },
  {
   "cell_type": "markdown",
   "id": "210dfea4",
   "metadata": {},
   "source": [
    "How many of the 100 intervals contain the population median? "
   ]
  },
  {
   "cell_type": "code",
   "execution_count": null,
   "id": "6d6f0e1e",
   "metadata": {},
   "outputs": [],
   "source": [
    "intervals.where(\n",
    "    'Left', are.below(pop_median)).where(\n",
    "    'Right', are.above(pop_median)).num_rows"
   ]
  },
  {
   "cell_type": "markdown",
   "id": "67b8bb6a",
   "metadata": {},
   "source": [
    "* Our estimation produced a good interval about 95% of the time.\n",
    "* We say that we are 95% confident that the process results in a good interval\n",
    "* Our interval of estimates is called a 95% confidence interval for the parameter"
   ]
  },
  {
   "cell_type": "markdown",
   "id": "f13b47f5",
   "metadata": {},
   "source": [
    "* The situation in the previous example was a bit unusual because we knew the value of the parameter\n",
    "* Usually data scientists don’t know the value of the parameter\n",
    "\n",
    "The table births contains the following variables for mother-baby pairs: the baby’s birth weight in ounces, the number of gestational days (the number of days the mother was pregnant), the mother’s age in completed years, the mother’s height in inches, pregnancy weight in pounds, and whether or not the mother smoked during pregnancy."
   ]
  },
  {
   "cell_type": "code",
   "execution_count": 38,
   "id": "d53e8173",
   "metadata": {},
   "outputs": [],
   "source": [
    "births = Table.read_table('baby.csv')"
   ]
  },
  {
   "cell_type": "code",
   "execution_count": 39,
   "id": "8367619e",
   "metadata": {},
   "outputs": [
    {
     "data": {
      "text/html": [
       "<table border=\"1\" class=\"dataframe\">\n",
       "    <thead>\n",
       "        <tr>\n",
       "            <th>Birth Weight</th> <th>Gestational Days</th> <th>Maternal Age</th> <th>Maternal Height</th> <th>Maternal Pregnancy Weight</th> <th>Maternal Smoker</th>\n",
       "        </tr>\n",
       "    </thead>\n",
       "    <tbody>\n",
       "        <tr>\n",
       "            <td>120         </td> <td>284             </td> <td>27          </td> <td>62             </td> <td>100                      </td> <td>False          </td>\n",
       "        </tr>\n",
       "        <tr>\n",
       "            <td>113         </td> <td>282             </td> <td>33          </td> <td>64             </td> <td>135                      </td> <td>False          </td>\n",
       "        </tr>\n",
       "        <tr>\n",
       "            <td>128         </td> <td>279             </td> <td>28          </td> <td>64             </td> <td>115                      </td> <td>True           </td>\n",
       "        </tr>\n",
       "    </tbody>\n",
       "</table>\n",
       "<p>... (1171 rows omitted)</p>"
      ],
      "text/plain": [
       "<IPython.core.display.HTML object>"
      ]
     },
     "metadata": {},
     "output_type": "display_data"
    }
   ],
   "source": [
    "births.show(3)"
   ]
  },
  {
   "cell_type": "markdown",
   "id": "ba3f35e1",
   "metadata": {},
   "source": [
    "* Birth weight is an important factor in the health of a newborn infant.\n",
    "* We will consider the relationship between birth weight and the number of gestational days."
   ]
  },
  {
   "cell_type": "code",
   "execution_count": 40,
   "id": "bbe32498",
   "metadata": {},
   "outputs": [
    {
     "data": {
      "text/html": [
       "<table border=\"1\" class=\"dataframe\">\n",
       "    <thead>\n",
       "        <tr>\n",
       "            <th>Birth Weight</th> <th>Gestational Days</th> <th>Ratio BW:GD</th>\n",
       "        </tr>\n",
       "    </thead>\n",
       "    <tbody>\n",
       "        <tr>\n",
       "            <td>120         </td> <td>284             </td> <td>0.422535   </td>\n",
       "        </tr>\n",
       "        <tr>\n",
       "            <td>113         </td> <td>282             </td> <td>0.400709   </td>\n",
       "        </tr>\n",
       "        <tr>\n",
       "            <td>128         </td> <td>279             </td> <td>0.458781   </td>\n",
       "        </tr>\n",
       "        <tr>\n",
       "            <td>108         </td> <td>282             </td> <td>0.382979   </td>\n",
       "        </tr>\n",
       "        <tr>\n",
       "            <td>136         </td> <td>286             </td> <td>0.475524   </td>\n",
       "        </tr>\n",
       "        <tr>\n",
       "            <td>138         </td> <td>244             </td> <td>0.565574   </td>\n",
       "        </tr>\n",
       "        <tr>\n",
       "            <td>132         </td> <td>245             </td> <td>0.538776   </td>\n",
       "        </tr>\n",
       "        <tr>\n",
       "            <td>120         </td> <td>289             </td> <td>0.415225   </td>\n",
       "        </tr>\n",
       "        <tr>\n",
       "            <td>143         </td> <td>299             </td> <td>0.478261   </td>\n",
       "        </tr>\n",
       "        <tr>\n",
       "            <td>140         </td> <td>351             </td> <td>0.39886    </td>\n",
       "        </tr>\n",
       "    </tbody>\n",
       "</table>\n",
       "<p>... (1164 rows omitted)</p>"
      ],
      "text/plain": [
       "Birth Weight | Gestational Days | Ratio BW:GD\n",
       "120          | 284              | 0.422535\n",
       "113          | 282              | 0.400709\n",
       "128          | 279              | 0.458781\n",
       "108          | 282              | 0.382979\n",
       "136          | 286              | 0.475524\n",
       "138          | 244              | 0.565574\n",
       "132          | 245              | 0.538776\n",
       "120          | 289              | 0.415225\n",
       "143          | 299              | 0.478261\n",
       "140          | 351              | 0.39886\n",
       "... (1164 rows omitted)"
      ]
     },
     "execution_count": 40,
     "metadata": {},
     "output_type": "execute_result"
    }
   ],
   "source": [
    "ratios = births.select('Birth Weight', 'Gestational Days').with_columns(\n",
    "    'Ratio BW:GD', births.column('Birth Weight')/births.column('Gestational Days')\n",
    ")\n",
    "ratios"
   ]
  },
  {
   "cell_type": "code",
   "execution_count": 41,
   "id": "da1c87ce",
   "metadata": {},
   "outputs": [
    {
     "data": {
      "image/png": "[encoded data removed]",
      "text/plain": [
       "<Figure size 432x288 with 1 Axes>"
      ]
     },
     "metadata": {},
     "output_type": "display_data"
    }
   ],
   "source": [
    "ratios.select('Ratio BW:GD').hist()"
   ]
  },
  {
   "cell_type": "markdown",
   "id": "4d092250",
   "metadata": {},
   "source": [
    "At first glance the histogram looks quite symmetric, with the density at its maximum over the interval 0.4 ounces per day to 0.45 ounces per day. But a closer look reveals that some of the ratios were quite large by comparison."
   ]
  },
  {
   "cell_type": "code",
   "execution_count": 42,
   "id": "656837a2",
   "metadata": {},
   "outputs": [
    {
     "data": {
      "text/html": [
       "<table border=\"1\" class=\"dataframe\">\n",
       "    <thead>\n",
       "        <tr>\n",
       "            <th>Birth Weight</th> <th>Gestational Days</th> <th>Ratio BW:GD</th>\n",
       "        </tr>\n",
       "    </thead>\n",
       "    <tbody>\n",
       "        <tr>\n",
       "            <td>116         </td> <td>148             </td> <td>0.783784   </td>\n",
       "        </tr>\n",
       "    </tbody>\n",
       "</table>"
      ],
      "text/plain": [
       "Birth Weight | Gestational Days | Ratio BW:GD\n",
       "116          | 148              | 0.783784"
      ]
     },
     "execution_count": 42,
     "metadata": {},
     "output_type": "execute_result"
    }
   ],
   "source": [
    "ratios.sort('Ratio BW:GD', descending=True).take(0)"
   ]
  },
  {
   "cell_type": "code",
   "execution_count": 43,
   "id": "9fbb0e0f",
   "metadata": {},
   "outputs": [
    {
     "data": {
      "text/plain": [
       "0.42907801418439717"
      ]
     },
     "execution_count": 43,
     "metadata": {},
     "output_type": "execute_result"
    }
   ],
   "source": [
    "percentile(50, ratios.column(2))"
   ]
  },
  {
   "cell_type": "markdown",
   "id": "029e5285",
   "metadata": {},
   "source": [
    "But what was the median in the population? "
   ]
  },
  {
   "cell_type": "markdown",
   "id": "4af33ae8",
   "metadata": {},
   "source": [
    "We will start by defining a function one_bootstrap_median. It will bootstrap the sample and return one the median ratio in the bootstrapped sample."
   ]
  },
  {
   "cell_type": "code",
   "execution_count": 44,
   "id": "5c0d41bd",
   "metadata": {},
   "outputs": [],
   "source": [
    "def one_bootstrap_median():\n",
    "    resample = ratios.sample()\n",
    "    return percentile(50, resample.column('Ratio BW:GD'))"
   ]
  },
  {
   "cell_type": "code",
   "execution_count": 45,
   "id": "a43711b4",
   "metadata": {},
   "outputs": [
    {
     "data": {
      "text/plain": [
       "0.4290657439446367"
      ]
     },
     "execution_count": 45,
     "metadata": {},
     "output_type": "execute_result"
    }
   ],
   "source": [
    "one_bootstrap_median()"
   ]
  },
  {
   "cell_type": "markdown",
   "id": "72f1ce0c",
   "metadata": {},
   "source": [
    "Now we can use a for loop to generate 5000 bootstrapped medians."
   ]
  },
  {
   "cell_type": "code",
   "execution_count": 46,
   "id": "3427cd37",
   "metadata": {},
   "outputs": [],
   "source": [
    "# Generate medians from 5000 bootstrap samples\n",
    "num_repetitions = 5000\n",
    "bstrap_medians = make_array()\n",
    "for i in np.arange(num_repetitions):\n",
    "    bstrap_medians = np.append(bstrap_medians, one_bootstrap_median())"
   ]
  },
  {
   "cell_type": "code",
   "execution_count": 47,
   "id": "e26b4f28",
   "metadata": {},
   "outputs": [
    {
     "data": {
      "text/plain": [
       "array([0.42545455, 0.43262411])"
      ]
     },
     "execution_count": 47,
     "metadata": {},
     "output_type": "execute_result"
    }
   ],
   "source": [
    "left = percentile(2.5, bstrap_medians)\n",
    "right = percentile(97.5, bstrap_medians)\n",
    "\n",
    "make_array(left, right)"
   ]
  },
  {
   "cell_type": "markdown",
   "id": "ceb13ce8",
   "metadata": {},
   "source": [
    "The 95% confidence interval goes from about 0.425 ounces per day to about 0.433 ounces per day."
   ]
  },
  {
   "cell_type": "code",
   "execution_count": 48,
   "id": "8ba46bd1",
   "metadata": {},
   "outputs": [
    {
     "data": {
      "image/png": "[encoded data removed]",
      "text/plain": [
       "<Figure size 432x288 with 1 Axes>"
      ]
     },
     "metadata": {},
     "output_type": "display_data"
    }
   ],
   "source": [
    "resampled_medians = Table().with_columns(\n",
    "    'Bootstrap Sample Median', bstrap_medians\n",
    ")\n",
    "resampled_medians.hist(bins=15)\n",
    "plots.plot([left, right], [0, 0], color='yellow', lw=8);"
   ]
  },
  {
   "cell_type": "markdown",
   "id": "589570e6",
   "metadata": {},
   "source": [
    "We just have an interval of estimates. It is a 95% confidence interval of estimates, because the process that generates it produces a good interval about 95% of the time. That certainly beats guessing the ratio at random! However, there is no green dot showing where the parameter is because we don’t know where that dot should be, or whether it is even in the interval."
   ]
  },
  {
   "cell_type": "markdown",
   "id": "5cbdbd76",
   "metadata": {},
   "source": [
    "The bootstrap is an elegant and powerful method. Before using it, it is important to keep some points in mind.\n",
    "\n",
    "* Start with a large random sample. \n",
    "* To approximate the probability distribution of a statistic, it is a good idea to replicate the resampling procedure as many times as possible.\n",
    "* The bootstrap percentile method works well for estimating the population median or mean based on a large random sample. However, it has limitations, as do all methods of estimation. For example, it is not expected to do well in the following situations.\n",
    "    * The goal is to estimate the minimum or maximum value in the population, or a very low or very high percentile, or parameters that are greatly influenced by rare elements of the population.\n",
    "    * The probability distribution of the statistic is not roughly bell shaped.\n",
    "    * The original sample is very small, say less than 10 or 15.\n"
   ]
  },
  {
   "cell_type": "markdown",
   "id": "8d324d22",
   "metadata": {},
   "source": [
    "#### Population Averages\n",
    "\n",
    "* Suppose we want to estimate the average age of the mothers in the population. \n",
    "* A natural estimate is the average age of the mothers in the sample.\n",
    "* Here is the distribution of their ages, and their average age which was about 27.2 years."
   ]
  },
  {
   "cell_type": "code",
   "execution_count": 49,
   "id": "d738b338",
   "metadata": {},
   "outputs": [
    {
     "data": {
      "image/png": "[encoded data removed]",
      "text/plain": [
       "<Figure size 432x288 with 1 Axes>"
      ]
     },
     "metadata": {},
     "output_type": "display_data"
    }
   ],
   "source": [
    "births.select('Maternal Age').hist()"
   ]
  },
  {
   "cell_type": "code",
   "execution_count": 50,
   "id": "0e4765d4",
   "metadata": {},
   "outputs": [
    {
     "data": {
      "text/plain": [
       "27.228279386712096"
      ]
     },
     "execution_count": 50,
     "metadata": {},
     "output_type": "execute_result"
    }
   ],
   "source": [
    "np.average(births.column('Maternal Age'))"
   ]
  },
  {
   "cell_type": "markdown",
   "id": "7f4e20d6",
   "metadata": {},
   "source": [
    "What was the average age of the mothers in the population? We don’t know the value of this parameter."
   ]
  },
  {
   "cell_type": "markdown",
   "id": "01f3f818",
   "metadata": {},
   "source": [
    "* Let’s estimate the unknown parameter by the bootstrap method. \n",
    "* To do this, we will adapt the code for bootstrap_median to instead define the function bootstrap_mean"
   ]
  },
  {
   "cell_type": "code",
   "execution_count": 51,
   "id": "ae8fbc0b",
   "metadata": {},
   "outputs": [],
   "source": [
    "def one_bootstrap_mean():\n",
    "    resample = births.sample()\n",
    "    return np.average(resample.column('Maternal Age'))"
   ]
  },
  {
   "cell_type": "code",
   "execution_count": 52,
   "id": "07c08882",
   "metadata": {},
   "outputs": [],
   "source": [
    "# Generate means from 5000 bootstrap samples\n",
    "num_repetitions = 5000\n",
    "bstrap_means = make_array()\n",
    "for i in np.arange(num_repetitions):\n",
    "    bstrap_means = np.append(bstrap_means, one_bootstrap_mean())"
   ]
  },
  {
   "cell_type": "code",
   "execution_count": 58,
   "id": "8563720f",
   "metadata": {},
   "outputs": [
    {
     "data": {
      "text/plain": [
       "array([26.64480409, 27.8560477 ])"
      ]
     },
     "execution_count": 58,
     "metadata": {},
     "output_type": "execute_result"
    }
   ],
   "source": [
    "# Get the endpoints of the 95% confidence interval\n",
    "left = percentile(0, bstrap_means)\n",
    "right = percentile(100, bstrap_means)\n",
    "\n",
    "make_array(left, right)"
   ]
  },
  {
   "cell_type": "markdown",
   "id": "54215994",
   "metadata": {},
   "source": [
    "* The 95% confidence interval goes from about 26.9 years to about 27.6 years. \n",
    "* That is, we are estimating that the average age of the mothers in the population is somewhere in the interval 26.9 years to 27.6 years."
   ]
  },
  {
   "cell_type": "code",
   "execution_count": 54,
   "id": "e0b10fa5",
   "metadata": {},
   "outputs": [
    {
     "data": {
      "image/png": "[encoded data removed]",
      "text/plain": [
       "<Figure size 432x288 with 1 Axes>"
      ]
     },
     "metadata": {},
     "output_type": "display_data"
    }
   ],
   "source": [
    "resampled_means = Table().with_columns(\n",
    "    'Bootstrap Sample Mean', bstrap_means\n",
    ")\n",
    "resampled_means.hist(bins=15)\n",
    "plots.plot([left, right], [0, 0], color='yellow', lw=8);"
   ]
  },
  {
   "cell_type": "markdown",
   "id": "eb0ef27c",
   "metadata": {},
   "source": [
    "**Notice also that the empirical histogram of the resampled means has roughly a symmetric bell shape, even though the histogram of the sampled ages was not symmetric at all.**"
   ]
  },
  {
   "cell_type": "code",
   "execution_count": 55,
   "id": "f0b2853e",
   "metadata": {},
   "outputs": [
    {
     "data": {
      "image/png": "[encoded data removed]",
      "text/plain": [
       "<Figure size 432x288 with 1 Axes>"
      ]
     },
     "metadata": {},
     "output_type": "display_data"
    }
   ],
   "source": [
    "births.select('Maternal Age').hist()"
   ]
  },
  {
   "cell_type": "markdown",
   "id": "389e077d",
   "metadata": {},
   "source": [
    "* A common misuse of confidence intervals is to conclude that about 95% of the women were between 26.9 years and 27.6 years old. \n",
    "* A histrogram shows that can’t be right – you wouldn’t expect 95% of mothers to all be within a few months of each other in age."
   ]
  },
  {
   "cell_type": "code",
   "execution_count": 56,
   "id": "9e81e2c8",
   "metadata": {},
   "outputs": [
    {
     "data": {
      "image/png": "[encoded data removed]",
      "text/plain": [
       "<Figure size 432x288 with 1 Axes>"
      ]
     },
     "metadata": {},
     "output_type": "display_data"
    }
   ],
   "source": [
    "births.select('Maternal Age').hist()"
   ]
  },
  {
   "cell_type": "markdown",
   "id": "4310f060",
   "metadata": {},
   "source": [
    "**The interval just estimates one number: the average of all the ages in the population.**"
   ]
  },
  {
   "cell_type": "markdown",
   "id": "054155ef",
   "metadata": {},
   "source": [
    "* The approximate 95% confidence interval for the average age in the population goes from 26.9 years to 27.6 years\n",
    "* Suppose someone wants to test the following hypotheses:\n",
    "\n",
    "    * **Null hypothesis: The average age in the population is 30 years.**\n",
    "\n",
    "    * **Alternative hypothesis: The average age in the population is not 30 years.**"
   ]
  },
  {
   "cell_type": "markdown",
   "id": "2b5ca136",
   "metadata": {},
   "source": [
    "## Case Study Hodgkin's Disease"
   ]
  },
  {
   "cell_type": "markdown",
   "id": "84e8120d",
   "metadata": {},
   "source": [
    "* Hodgkin’s disease is a cancer that typically affects young people. \n",
    "* The purpose of the trial was to come up with dosage that would cure the cancer but minimize the adverse effects on the patients.\n",
    "\n",
    "\n",
    "This table hodgkins contains data on the effect that the treatment had on the lungs of 22 patients. The columns are:\n",
    "\n",
    "\n",
    "* Height in cm\n",
    "* A measure of radiation to the mantle (neck, chest, under arms)\n",
    "* A measure of chemotherapy\n",
    "* A score of the health of the lungs at baseline, that is, at the start of the treatment; higher scores correspond to more healthy lungs\n",
    "* The same score of the health of the lungs, 15 months after treatment\n"
   ]
  },
  {
   "cell_type": "code",
   "execution_count": 59,
   "id": "cc80dd83",
   "metadata": {},
   "outputs": [],
   "source": [
    "hodgkins = Table.read_table('hodgkins.csv')"
   ]
  },
  {
   "cell_type": "code",
   "execution_count": 60,
   "id": "7287a151",
   "metadata": {},
   "outputs": [
    {
     "data": {
      "text/html": [
       "<table border=\"1\" class=\"dataframe\">\n",
       "    <thead>\n",
       "        <tr>\n",
       "            <th>height</th> <th>rad</th> <th>chemo</th> <th>base</th> <th>month15</th>\n",
       "        </tr>\n",
       "    </thead>\n",
       "    <tbody>\n",
       "        <tr>\n",
       "            <td>164   </td> <td>679 </td> <td>180  </td> <td>160.57</td> <td>87.77  </td>\n",
       "        </tr>\n",
       "        <tr>\n",
       "            <td>168   </td> <td>311 </td> <td>180  </td> <td>98.24 </td> <td>67.62  </td>\n",
       "        </tr>\n",
       "        <tr>\n",
       "            <td>173   </td> <td>388 </td> <td>239  </td> <td>129.04</td> <td>133.33 </td>\n",
       "        </tr>\n",
       "    </tbody>\n",
       "</table>\n",
       "<p>... (19 rows omitted)</p>"
      ],
      "text/plain": [
       "<IPython.core.display.HTML object>"
      ]
     },
     "metadata": {},
     "output_type": "display_data"
    }
   ],
   "source": [
    "hodgkins.show(3)"
   ]
  },
  {
   "cell_type": "markdown",
   "id": "181970f3",
   "metadata": {},
   "source": [
    "* We will compare the baseline and 15-month scores \n",
    "* Each row corresponds to one patient, we say that the sample of baseline scores and the sample of 15-month scores are paired - they are not just two sets of 22 values each, but 22 pairs of values, one for each patient."
   ]
  },
  {
   "cell_type": "markdown",
   "id": "d8d4912e",
   "metadata": {},
   "source": [
    "* We can see that the 15-month scores tend to be lower than the baseline scores\n",
    "* The sampled patients’ lungs seem to be doing worse 15 months after the treatment"
   ]
  },
  {
   "cell_type": "code",
   "execution_count": 61,
   "id": "da8e629c",
   "metadata": {},
   "outputs": [
    {
     "data": {
      "text/html": [
       "<table border=\"1\" class=\"dataframe\">\n",
       "    <thead>\n",
       "        <tr>\n",
       "            <th>height</th> <th>rad</th> <th>chemo</th> <th>base</th> <th>month15</th> <th>drop</th>\n",
       "        </tr>\n",
       "    </thead>\n",
       "    <tbody>\n",
       "        <tr>\n",
       "            <td>164   </td> <td>679 </td> <td>180  </td> <td>160.57</td> <td>87.77  </td> <td>72.8  </td>\n",
       "        </tr>\n",
       "        <tr>\n",
       "            <td>168   </td> <td>311 </td> <td>180  </td> <td>98.24 </td> <td>67.62  </td> <td>30.62 </td>\n",
       "        </tr>\n",
       "        <tr>\n",
       "            <td>173   </td> <td>388 </td> <td>239  </td> <td>129.04</td> <td>133.33 </td> <td>-4.29 </td>\n",
       "        </tr>\n",
       "        <tr>\n",
       "            <td>157   </td> <td>370 </td> <td>168  </td> <td>85.41 </td> <td>81.28  </td> <td>4.13  </td>\n",
       "        </tr>\n",
       "        <tr>\n",
       "            <td>160   </td> <td>468 </td> <td>151  </td> <td>67.94 </td> <td>79.26  </td> <td>-11.32</td>\n",
       "        </tr>\n",
       "        <tr>\n",
       "            <td>170   </td> <td>341 </td> <td>96   </td> <td>150.51</td> <td>80.97  </td> <td>69.54 </td>\n",
       "        </tr>\n",
       "        <tr>\n",
       "            <td>163   </td> <td>453 </td> <td>134  </td> <td>129.88</td> <td>69.24  </td> <td>60.64 </td>\n",
       "        </tr>\n",
       "        <tr>\n",
       "            <td>175   </td> <td>529 </td> <td>264  </td> <td>87.45 </td> <td>56.48  </td> <td>30.97 </td>\n",
       "        </tr>\n",
       "        <tr>\n",
       "            <td>185   </td> <td>392 </td> <td>240  </td> <td>149.84</td> <td>106.99 </td> <td>42.85 </td>\n",
       "        </tr>\n",
       "        <tr>\n",
       "            <td>178   </td> <td>479 </td> <td>216  </td> <td>92.24 </td> <td>73.43  </td> <td>18.81 </td>\n",
       "        </tr>\n",
       "    </tbody>\n",
       "</table>\n",
       "<p>... (12 rows omitted)</p>"
      ],
      "text/plain": [
       "height | rad  | chemo | base   | month15 | drop\n",
       "164    | 679  | 180   | 160.57 | 87.77   | 72.8\n",
       "168    | 311  | 180   | 98.24  | 67.62   | 30.62\n",
       "173    | 388  | 239   | 129.04 | 133.33  | -4.29\n",
       "157    | 370  | 168   | 85.41  | 81.28   | 4.13\n",
       "160    | 468  | 151   | 67.94  | 79.26   | -11.32\n",
       "170    | 341  | 96    | 150.51 | 80.97   | 69.54\n",
       "163    | 453  | 134   | 129.88 | 69.24   | 60.64\n",
       "175    | 529  | 264   | 87.45  | 56.48   | 30.97\n",
       "185    | 392  | 240   | 149.84 | 106.99  | 42.85\n",
       "178    | 479  | 216   | 92.24  | 73.43   | 18.81\n",
       "... (12 rows omitted)"
      ]
     },
     "execution_count": 61,
     "metadata": {},
     "output_type": "execute_result"
    }
   ],
   "source": [
    "hodgkins = hodgkins.with_columns(\n",
    "    'drop', hodgkins.column('base') - hodgkins.column('month15')\n",
    ")\n",
    "hodgkins"
   ]
  },
  {
   "cell_type": "code",
   "execution_count": 62,
   "id": "e0853d31",
   "metadata": {},
   "outputs": [
    {
     "data": {
      "image/png": "[encoded data removed]",
      "text/plain": [
       "<Figure size 432x288 with 1 Axes>"
      ]
     },
     "metadata": {},
     "output_type": "display_data"
    }
   ],
   "source": [
    "hodgkins.select('drop').hist(bins=np.arange(-20, 81, 20))"
   ]
  },
  {
   "cell_type": "code",
   "execution_count": 63,
   "id": "7f7eeceb",
   "metadata": {},
   "outputs": [
    {
     "data": {
      "text/plain": [
       "28.615909090909096"
      ]
     },
     "execution_count": 63,
     "metadata": {},
     "output_type": "execute_result"
    }
   ],
   "source": [
    "np.average(hodgkins.column('drop'))"
   ]
  },
  {
   "cell_type": "markdown",
   "id": "c9ad37f9",
   "metadata": {},
   "source": [
    "* In the sample, the average drop is about 28.6. \n",
    "* Could this be the result of chance variation? \n",
    "* Could it be that in the entire population of patients, the average drop is just 0?\n",
    "\n",
    "To answer this, we can set up two hypotheses:\n",
    "\n",
    "**Null hypothesis: In the population, the average drop is 0.**\n",
    "\n",
    "**Alternative hypothesis: In the population, the average drop is not 0.**\n",
    "\n",
    "To test this hypothesis with a 1% cutoff for the p-value, let’s construct an approximate 99% confidence interval for the average drop in the population."
   ]
  },
  {
   "cell_type": "code",
   "execution_count": 64,
   "id": "6e24a846",
   "metadata": {},
   "outputs": [],
   "source": [
    "def one_bootstrap_mean():\n",
    "    resample = hodgkins.sample()\n",
    "    return np.average(resample.column('drop'))"
   ]
  },
  {
   "cell_type": "code",
   "execution_count": 65,
   "id": "a0b143d7",
   "metadata": {},
   "outputs": [],
   "source": [
    "# Generate 10,000 bootstrap means\n",
    "num_repetitions = 10000\n",
    "bstrap_means = make_array()\n",
    "for i in np.arange(num_repetitions):\n",
    "    bstrap_means = np.append(bstrap_means, one_bootstrap_mean())"
   ]
  },
  {
   "cell_type": "code",
   "execution_count": 69,
   "id": "0775a36e",
   "metadata": {},
   "outputs": [
    {
     "data": {
      "text/plain": [
       "array([21.26409091, 36.05727273])"
      ]
     },
     "execution_count": 69,
     "metadata": {},
     "output_type": "execute_result"
    }
   ],
   "source": [
    "# Get the endpoints of the 99% confidence interval\n",
    "left = percentile(5, bstrap_means)\n",
    "right = percentile(95, bstrap_means)\n",
    "\n",
    "make_array(left, right)"
   ]
  },
  {
   "cell_type": "code",
   "execution_count": 67,
   "id": "016ebcdf",
   "metadata": {},
   "outputs": [
    {
     "data": {
      "image/png": "[encoded data removed]",
      "text/plain": [
       "<Figure size 432x288 with 1 Axes>"
      ]
     },
     "metadata": {},
     "output_type": "display_data"
    }
   ],
   "source": [
    "resampled_means = Table().with_columns(\n",
    "    'Bootstrap Sample Mean', bstrap_means\n",
    ")\n",
    "resampled_means.hist()\n",
    "plots.plot([left, right], [0, 0], color='yellow', lw=8);"
   ]
  },
  {
   "cell_type": "markdown",
   "id": "c93f7e8d",
   "metadata": {},
   "source": [
    "* The 99% confidence interval for the average drop in the population goes from about 17 to about 40. The interval doesn’t contain 0. So we reject the null hypothesis.\n",
    "\n",
    "* Notice that we have done better than simply concluding that the average drop in the population isn’t 0. We have estimated how big the average drop is. That’s a more useful result than just saying, “It’s not 0.”\n",
    "\n",
    "* A note on accuracy: Our confidence interval is quite wide, for two main reasons:\n",
    "\n",
    "    * The confidence level is high (99%).\n",
    "\n",
    "    * The sample size is relatively small compared to those in our earlier examples."
   ]
  },
  {
   "cell_type": "markdown",
   "id": "26a95448",
   "metadata": {},
   "source": [
    "The next chapter examines how the sample size affects accuracy. We will also examine how the empirical distributions of sample means so often come out bell shaped even though the distributions of the underlying data are not bell shaped at all."
   ]
  },
  {
   "cell_type": "code",
   "execution_count": null,
   "id": "5c2beda9",
   "metadata": {},
   "outputs": [],
   "source": []
  }
 ],
 "metadata": {
  "kernelspec": {
   "display_name": "Python 3 (ipykernel)",
   "language": "python",
   "name": "python3"
  },
  "language_info": {
   "codemirror_mode": {
    "name": "ipython",
    "version": 3
   },
   "file_extension": ".py",
   "mimetype": "text/x-python",
   "name": "python",
   "nbconvert_exporter": "python",
   "pygments_lexer": "ipython3",
   "version": "3.7.1"
  }
 },
 "nbformat": 4,
 "nbformat_minor": 5
}
